{
  "nbformat": 4,
  "nbformat_minor": 0,
  "metadata": {
    "colab": {
      "name": "Copy of Pytorch_from_scratch_Daniel_Godoy.ipynb",
      "provenance": []
    },
    "kernelspec": {
      "name": "python3",
      "display_name": "Python 3"
    },
    "accelerator": "GPU"
  },
  "cells": [
    {
      "cell_type": "code",
      "metadata": {
        "id": "rebvQqA1IZSm"
      },
      "source": [
        "import numpy as np"
      ],
      "execution_count": null,
      "outputs": []
    },
    {
      "cell_type": "code",
      "metadata": {
        "id": "9fuJ2sAqIh2Z"
      },
      "source": [
        "np.random.seed(42)"
      ],
      "execution_count": null,
      "outputs": []
    },
    {
      "cell_type": "code",
      "metadata": {
        "id": "ueEtFu8AImCT"
      },
      "source": [
        "# Generate dataset\n",
        "x = np.random.rand(100,1) #create 100 rows and 1 column matrix with the values between 0 and 1\n",
        "y = 1 + 2*x + .1*np.random.randn(100,1) # generate y values --> add bias of 1, with the weight of 2 and standard deviation of 0.1 for the noise"
      ],
      "execution_count": null,
      "outputs": []
    },
    {
      "cell_type": "code",
      "metadata": {
        "id": "xp6YyN91JMxF"
      },
      "source": [
        "# shuffle the data\n",
        "idx = np.arange(100)\n",
        "np.random.shuffle(idx)\n",
        "train_idx = idx[:80]\n",
        "val_idx = idx[80:]"
      ],
      "execution_count": null,
      "outputs": []
    },
    {
      "cell_type": "code",
      "metadata": {
        "id": "4BY68ZSoJjwE"
      },
      "source": [
        "x_train = x[train_idx]\n",
        "y_train = y[train_idx]\n",
        "x_val = x[val_idx]\n",
        "y_val = y[val_idx]"
      ],
      "execution_count": null,
      "outputs": []
    },
    {
      "cell_type": "code",
      "metadata": {
        "id": "XLFntrIUJr1q"
      },
      "source": [
        "import matplotlib.pyplot as plt\n",
        "%matplotlib inline"
      ],
      "execution_count": null,
      "outputs": []
    },
    {
      "cell_type": "code",
      "metadata": {
        "colab": {
          "base_uri": "https://localhost:8080/",
          "height": 282
        },
        "id": "QG8M7lZ9J-v9",
        "outputId": "8f14763e-9eab-438b-dd29-4c863e969437"
      },
      "source": [
        "plt.plot(x_train, y_train, '*')\n",
        "plt.plot(x_val, y_val, '*')"
      ],
      "execution_count": null,
      "outputs": [
        {
          "output_type": "execute_result",
          "data": {
            "text/plain": [
              "[<matplotlib.lines.Line2D at 0x7f0dbadf1630>]"
            ]
          },
          "metadata": {
            "tags": []
          },
          "execution_count": 37
        },
        {
          "output_type": "display_data",
          "data": {
            "image/png": "[encoded data removed]",
            "text/plain": [
              "<Figure size 432x288 with 1 Axes>"
            ]
          },
          "metadata": {
            "tags": [],
            "needs_background": "light"
          }
        }
      ]
    },
    {
      "cell_type": "code",
      "metadata": {
        "id": "MxhodOdnKFWQ"
      },
      "source": [
        "# From the graph, it is obvious that the bias is close to 1 and the slope (weight/parameter) is 2"
      ],
      "execution_count": null,
      "outputs": []
    },
    {
      "cell_type": "code",
      "metadata": {
        "id": "cNtQLbY6KZvL"
      },
      "source": [
        "# Lets derive the bias and weight values from the regular regression method as well as pytorch framework"
      ],
      "execution_count": null,
      "outputs": []
    },
    {
      "cell_type": "code",
      "metadata": {
        "colab": {
          "base_uri": "https://localhost:8080/"
        },
        "id": "jcc7cxvkK_-F",
        "outputId": "6a800636-9ee9-4e65-897d-bd35ed136248"
      },
      "source": [
        "# Linear regression\n",
        "from sklearn.linear_model import LinearRegression\n",
        "lin_reg = LinearRegression()\n",
        "lin_reg.fit(x_train, y_train)\n",
        "print('Weight:',lin_reg.coef_)\n",
        "print('Bias:',lin_reg.intercept_)"
      ],
      "execution_count": null,
      "outputs": [
        {
          "output_type": "stream",
          "text": [
            "Weight: [[1.96896447]]\n",
            "Bias: [1.02354075]\n"
          ],
          "name": "stdout"
        }
      ]
    },
    {
      "cell_type": "code",
      "metadata": {
        "id": "mADx0AtKLR7k"
      },
      "source": [
        "# Linear regression calculates the weight and bias close to its real value"
      ],
      "execution_count": null,
      "outputs": []
    },
    {
      "cell_type": "code",
      "metadata": {
        "colab": {
          "base_uri": "https://localhost:8080/"
        },
        "id": "claFSeO3LvvE",
        "outputId": "3f9899b2-86b9-45e2-fa2d-83929d0bcbd4"
      },
      "source": [
        "# Lets use Numpy library to find the weight and bias\n",
        "a = np.random.rand(1) # initialize random bias value\n",
        "b = np.random.rand(1) # initalize random weight value\n",
        "\n",
        "epochs = 1000\n",
        "lr = 1e-1\n",
        "\n",
        "for epoch in range(epochs):\n",
        "  # prediction\n",
        "  yhat = a + b * x_train\n",
        "  # error\n",
        "  error = y_train - yhat\n",
        "  # loss\n",
        "  loss = (error**2).mean()\n",
        "  # calculate gradient\n",
        "  a_grad = -2 * error.mean()\n",
        "  b_grad = -2 * (x_train*error).mean()\n",
        "  # update parameter\n",
        "  a -= lr*a_grad\n",
        "  b -= lr*b_grad\n",
        "\n",
        "print(f'weight: {b} \\nbias: {a}')"
      ],
      "execution_count": null,
      "outputs": [
        {
          "output_type": "stream",
          "text": [
            "weight: [1.9689642] \n",
            "bias: [1.02354089]\n"
          ],
          "name": "stdout"
        }
      ]
    },
    {
      "cell_type": "code",
      "metadata": {
        "id": "l4S3ElHMN5Qk"
      },
      "source": [
        "# Linear regression and Numpy libraries provides the same weight and bias"
      ],
      "execution_count": null,
      "outputs": []
    },
    {
      "cell_type": "code",
      "metadata": {
        "id": "g0NB6A_ROU9U"
      },
      "source": [
        "# Let do it with pytorch\n",
        "\n",
        "import torch\n",
        "import torch.optim as optim\n",
        "import torch.nn as nn\n"
      ],
      "execution_count": null,
      "outputs": []
    },
    {
      "cell_type": "code",
      "metadata": {
        "id": "Lid0i0x8O6FS"
      },
      "source": [
        "# select the device\n",
        "device = 'cuda' if torch.cuda.is_available() else 'cpu'"
      ],
      "execution_count": null,
      "outputs": []
    },
    {
      "cell_type": "code",
      "metadata": {
        "colab": {
          "base_uri": "https://localhost:8080/"
        },
        "id": "79lW0dhbPqao",
        "outputId": "5f1b8df4-d6d4-4002-a00b-cebd9bef4728"
      },
      "source": [
        "torch.cuda.is_available()"
      ],
      "execution_count": null,
      "outputs": [
        {
          "output_type": "execute_result",
          "data": {
            "text/plain": [
              "True"
            ]
          },
          "metadata": {
            "tags": []
          },
          "execution_count": 46
        }
      ]
    },
    {
      "cell_type": "code",
      "metadata": {
        "id": "QhvFvp-8OtYJ"
      },
      "source": [
        "# convert the numpy format data to tensor form\n",
        "x_train_tensor = torch.from_numpy(x_train).float().to(device)\n",
        "y_train_tensor = torch.from_numpy(y_train).float().to(device)\n",
        "x_val_tensor = torch.from_numpy(x_val).float().to(device)\n",
        "y_val_tensor = torch.from_numpy(y_val).float().to(device)\n",
        "\n"
      ],
      "execution_count": null,
      "outputs": []
    },
    {
      "cell_type": "code",
      "metadata": {
        "id": "XM7G3OEtQPb3"
      },
      "source": [
        "# model \n",
        "model = nn.Sequential(nn.Linear(1,1)).to(device)\n"
      ],
      "execution_count": null,
      "outputs": []
    },
    {
      "cell_type": "code",
      "metadata": {
        "id": "J-eD7JETQqZc"
      },
      "source": [
        "# loss function\n",
        "loss_fn = nn.MSELoss(reduction='mean')"
      ],
      "execution_count": null,
      "outputs": []
    },
    {
      "cell_type": "code",
      "metadata": {
        "id": "Q4_b8W_6Q_LL"
      },
      "source": [
        "# set optimizer\n",
        "lr = 1e-1\n",
        "opt = optim.SGD(model.parameters(), lr = lr)"
      ],
      "execution_count": null,
      "outputs": []
    },
    {
      "cell_type": "code",
      "metadata": {
        "colab": {
          "base_uri": "https://localhost:8080/"
        },
        "id": "htYNy-G1Qi0N",
        "outputId": "04fbcdd2-06e3-41ad-f54f-295a6e32a645"
      },
      "source": [
        "for epoch in range(epochs):\n",
        "  model.train()\n",
        "  yhat = model(x_train_tensor)\n",
        "  loss = loss_fn(y_train_tensor, yhat)\n",
        "  loss.backward()\n",
        "  opt.step()\n",
        "  opt.zero_grad()\n",
        "print(model.state_dict())"
      ],
      "execution_count": null,
      "outputs": [
        {
          "output_type": "stream",
          "text": [
            "OrderedDict([('0.weight', tensor([[1.9690]], device='cuda:0')), ('0.bias', tensor([1.0235], device='cuda:0'))])\n"
          ],
          "name": "stdout"
        }
      ]
    },
    {
      "cell_type": "code",
      "metadata": {
        "id": "p3ABIu1CSzts"
      },
      "source": [
        "# Pytorch found weight and bias...."
      ],
      "execution_count": null,
      "outputs": []
    },
    {
      "cell_type": "code",
      "metadata": {
        "id": "fBOVykULTD_4"
      },
      "source": [
        "# So far we have learnt to use pytorch for linear model"
      ],
      "execution_count": null,
      "outputs": []
    },
    {
      "cell_type": "code",
      "metadata": {
        "colab": {
          "base_uri": "https://localhost:8080/"
        },
        "id": "SgdBUtn8TLYh",
        "outputId": "61e11981-a6db-4d90-bbbc-944ac330750b"
      },
      "source": [
        "# Lets build a complete model with pytorch\n",
        "\n",
        "import numpy as np\n",
        "import torch\n",
        "import torch.nn as nn\n",
        "import torch.optim as optim\n",
        "from torch.utils.data import TensorDataset, DataLoader, Dataset\n",
        "from torch.utils.data.dataset import random_split\n",
        "\n",
        "# choose between CPU and GPU\n",
        "device = 'cuda' if torch.cuda.is_available() else 'cpu'\n",
        "\n",
        "# generate dataset\n",
        "x = np.random.rand(100,1)\n",
        "y = 1 + 2*x + 0.1*np.random.randn(100,1)\n",
        "\n",
        "# convert numpy data format to tensor format\n",
        "x_tensor = torch.from_numpy(x).float()\n",
        "y_tensor = torch.from_numpy(y).float()\n",
        "\n",
        "# create the tuples from x and y input data using TensorDataset to slice the dataset\n",
        "dataset = TensorDataset(x_tensor, y_tensor)\n",
        "train_dataset, val_dataset = random_split(dataset, [80,20])\n",
        "\n",
        "# Dataset is split into many batches using Dataloader\n",
        "train_dl = DataLoader(train_dataset, batch_size=10, shuffle=True)\n",
        "val_dl = DataLoader(val_dataset, batch_size=10, shuffle=True)\n",
        "\n",
        "# write a function to call train_step function which fit, cal loss, cal grad, opt param, and set param to zero and return loss\n",
        "def make_train_step(model, loss_fn, optimizer):\n",
        "  def train_step(x, y):\n",
        "    # set the model to train\n",
        "    model.train()\n",
        "    # predict\n",
        "    yhat = model(x)\n",
        "    # cal loss\n",
        "    loss = loss_fn(y, yhat)\n",
        "    # cal gradient\n",
        "    loss.backward()\n",
        "    # update param\n",
        "    optimizer.step()\n",
        "    # set grad to zero\n",
        "    optimizer.zero_grad()\n",
        "    return loss.item()\n",
        "  return train_step\n",
        "\n",
        "# provide learning rate and epoch \n",
        "lr = 1e-1\n",
        "epochs = 100\n",
        "\n",
        "# define model, loss function and optimizer\n",
        "model = nn.Sequential(nn.Linear(1,1)).to(device)\n",
        "loss_fn = nn.MSELoss(reduction='mean')\n",
        "opt = optim.SGD(model.parameters(), lr=lr)\n",
        "\n",
        "# instatiate make_train_step function to train_step\n",
        "train_step = make_train_step (model, loss_fn, opt)\n",
        "\n",
        "# create empty list to store training and validation loss of each epoch/training\n",
        "training_losses = []\n",
        "validataion_losses = []\n",
        "\n",
        "# iterate each epoch and fit the model with the training set\n",
        "for epoch in range(epochs):\n",
        "  # create batch_losses empty list to append the batch_loss of each batch\n",
        "  batch_losses = []\n",
        "  # iterate each batch from the train_dl\n",
        "  for x_batch, y_batch in train_dl:\n",
        "    # convert tensor format to gpu tensor format\n",
        "    x_batch = x_batch.to(device)\n",
        "    y_batch = y_batch.to(device)\n",
        "    # store the loss value of each batch in loss variable\n",
        "    loss = train_step(x_batch, y_batch)\n",
        "    # append the loss into batch_losses list\n",
        "    batch_losses.append(loss)\n",
        "\n",
        "  # take a mean of batch losses and append this particular epoch loss to training_losses\n",
        "  training_loss = np.mean(batch_losses)\n",
        "  training_losses.append(training_loss)\n",
        "\n",
        "  # evaluate the model with the validation dataset\n",
        "  # evaluation method doesn't require gradient\n",
        "  with torch.no_grad():\n",
        "    # create val_losses empty list to append the val_loss of each batch\n",
        "    val_losses = []\n",
        "    # iterate batches of validatation dataset\n",
        "    for x_val, y_val in val_dl:\n",
        "      # convert tensor format to gpu tensor format\n",
        "      x_val = x_val.to(device)\n",
        "      y_val = y_val.to(device)\n",
        "      # evaluate the model\n",
        "      model.eval()\n",
        "      # predict the model\n",
        "      yhat = model(x_val)\n",
        "      # calculate the loss\n",
        "      val_loss = loss_fn(y_val, yhat).item()\n",
        "      # append the loss to val_losses\n",
        "      val_losses.append(val_loss)\n",
        "    # append the mean value of losses each val_losses to validation_losses\n",
        "    validation_loss = np.mean(val_losses)\n",
        "    validataion_losses.append(validation_loss)\n",
        "\n",
        "  if (epoch+1) % 10 == 0:\n",
        "    print(f'[{epoch+1}], training_loss: {training_loss:.3f}, validation_loss: {validation_loss:.3f} ')\n",
        "\n",
        "print(model.state_dict())"
      ],
      "execution_count": null,
      "outputs": [
        {
          "output_type": "stream",
          "text": [
            "[10], training_loss: 0.023, validation_loss: 0.026 \n",
            "[20], training_loss: 0.011, validation_loss: 0.010 \n",
            "[30], training_loss: 0.009, validation_loss: 0.008 \n",
            "[40], training_loss: 0.009, validation_loss: 0.007 \n",
            "[50], training_loss: 0.009, validation_loss: 0.007 \n",
            "[60], training_loss: 0.009, validation_loss: 0.007 \n",
            "[70], training_loss: 0.009, validation_loss: 0.007 \n",
            "[80], training_loss: 0.009, validation_loss: 0.007 \n",
            "[90], training_loss: 0.009, validation_loss: 0.007 \n",
            "[100], training_loss: 0.009, validation_loss: 0.007 \n",
            "OrderedDict([('0.weight', tensor([[1.9998]], device='cuda:0')), ('0.bias', tensor([1.0237], device='cuda:0'))])\n"
          ],
          "name": "stdout"
        }
      ]
    },
    {
      "cell_type": "code",
      "metadata": {
        "id": "kDRXbR4UlbKB"
      },
      "source": [
        ""
      ],
      "execution_count": null,
      "outputs": []
    }
  ]
}